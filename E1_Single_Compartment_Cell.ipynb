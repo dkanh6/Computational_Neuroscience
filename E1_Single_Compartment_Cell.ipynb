{
  "nbformat": 4,
  "nbformat_minor": 0,
  "metadata": {
    "colab": {
      "provenance": [],
      "authorship_tag": "ABX9TyMNKdlGUhj12eOWeCaQatf+",
      "include_colab_link": true
    },
    "kernelspec": {
      "name": "python3",
      "display_name": "Python 3"
    },
    "language_info": {
      "name": "python"
    }
  },
  "cells": [
    {
      "cell_type": "markdown",
      "metadata": {
        "id": "view-in-github",
        "colab_type": "text"
      },
      "source": [
        "<a href=\"https://colab.research.google.com/github/dkanh6/Computational_Neuroscience/blob/main/E1_Single_Compartment_Cell.ipynb\" target=\"_parent\"><img src=\"https://colab.research.google.com/assets/colab-badge.svg\" alt=\"Open In Colab\"/></a>"
      ]
    },
    {
      "cell_type": "markdown",
      "source": [
        "# E1 Single Compartment Cell in NEURON\n",
        "This is an example created purely to familarize myself with the NEURON package and experiment with its many features. First I will install NEURON and some other useful libraries such as numpy and matlplotlib"
      ],
      "metadata": {
        "id": "Tq0O67i-5JRX"
      }
    },
    {
      "cell_type": "code",
      "execution_count": 4,
      "metadata": {
        "colab": {
          "base_uri": "https://localhost:8080/"
        },
        "id": "Bix59pgc4vld",
        "outputId": "eec1153e-d36d-49ea-a99a-ec04b1b479b1"
      },
      "outputs": [
        {
          "output_type": "stream",
          "name": "stdout",
          "text": [
            "Requirement already satisfied: neuron in /usr/local/lib/python3.10/dist-packages (8.2.3)\n",
            "Requirement already satisfied: numpy>=1.9.3 in /usr/local/lib/python3.10/dist-packages (from neuron) (1.23.5)\n"
          ]
        }
      ],
      "source": [
        "!pip install neuron"
      ]
    },
    {
      "cell_type": "code",
      "source": [
        "from neuron import h\n",
        "import matplotlib.pyplot as plt\n",
        "import numpy as np\n",
        "h.load_file('stdrun.hoc') # compiles some of the files for use in the simulation"
      ],
      "metadata": {
        "id": "wAHjDBWM6VmM"
      },
      "execution_count": 5,
      "outputs": []
    }
  ]
}