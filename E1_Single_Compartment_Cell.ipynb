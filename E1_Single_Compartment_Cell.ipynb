{
  "nbformat": 4,
  "nbformat_minor": 0,
  "metadata": {
    "colab": {
      "provenance": [],
      "authorship_tag": "ABX9TyPj6Y1bTOnKPOHD7M2T19jk",
      "include_colab_link": true
    },
    "kernelspec": {
      "name": "python3",
      "display_name": "Python 3"
    },
    "language_info": {
      "name": "python"
    }
  },
  "cells": [
    {
      "cell_type": "markdown",
      "metadata": {
        "id": "view-in-github",
        "colab_type": "text"
      },
      "source": [
        "<a href=\"https://colab.research.google.com/github/dkanh6/Computational_Neuroscience/blob/main/E1_Single_Compartment_Cell.ipynb\" target=\"_parent\"><img src=\"https://colab.research.google.com/assets/colab-badge.svg\" alt=\"Open In Colab\"/></a>"
      ]
    },
    {
      "cell_type": "markdown",
      "source": [
        "# E1 Single Compartment Cell in NEURON\n",
        "\n",
        "\n",
        "---\n",
        "\n",
        "\n",
        "This is an example created purely to familarize myself with the NEURON package and experiment with its many features. First I will install NEURON and some other useful libraries such as numpy and matlplotlib\n",
        "\n",
        "The NEURON module has additional submodules besides .h submodule.\n",
        "\n",
        "1. .rxd (reaction diffusion dynamics)\n",
        "2. .gui2 (Jupyter-compatible PlotShape graphs)\n",
        "3. .gui (Interviews-based GUI tools.)\n",
        "\n",
        "the .h submodule allows for loading files, executing code, and calling functions written in HOC, an older scriptiong language supported by NEURON.\n",
        "\n"
      ],
      "metadata": {
        "id": "Tq0O67i-5JRX"
      }
    },
    {
      "cell_type": "code",
      "execution_count": 7,
      "metadata": {
        "colab": {
          "base_uri": "https://localhost:8080/"
        },
        "id": "Bix59pgc4vld",
        "outputId": "bdfef9fc-8465-4c4b-d247-83528bc860b9"
      },
      "outputs": [
        {
          "output_type": "stream",
          "name": "stdout",
          "text": [
            "Requirement already satisfied: neuron in /usr/local/lib/python3.10/dist-packages (8.2.3)\n",
            "Requirement already satisfied: numpy>=1.9.3 in /usr/local/lib/python3.10/dist-packages (from neuron) (1.23.5)\n"
          ]
        }
      ],
      "source": [
        "!pip install neuron"
      ]
    },
    {
      "cell_type": "code",
      "source": [
        "from neuron import h\n",
        "import matplotlib.pyplot as plt\n",
        "import numpy as np\n",
        "h.load_file('stdrun.hoc') # compiles some of the files for use in the simulation\n"
      ],
      "metadata": {
        "id": "wAHjDBWM6VmM",
        "colab": {
          "base_uri": "https://localhost:8080/"
        },
        "outputId": "eca64c4f-e2a2-4abd-f9c2-043cb6e5703e"
      },
      "execution_count": 8,
      "outputs": [
        {
          "output_type": "execute_result",
          "data": {
            "text/plain": [
              "1.0"
            ]
          },
          "metadata": {},
          "execution_count": 8
        }
      ]
    },
    {
      "cell_type": "markdown",
      "source": [
        "## How to Make a Simple Cell\n",
        "\n",
        "\n",
        "---\n",
        "\n",
        "\n",
        "\n",
        "A **Section** is the basic morphological building block in NEURON. Think of it as an unbranched cable, (it can be used to represent a soma). Thus the simpliest of neuron models would be only a soma.\n",
        "\n"
      ],
      "metadata": {
        "id": "wqNcVCRI9Swy"
      }
    },
    {
      "cell_type": "code",
      "source": [
        "soma = h.Section(name='soma')"
      ],
      "metadata": {
        "id": "-u5YVqZK9oQ1"
      },
      "execution_count": 9,
      "outputs": []
    },
    {
      "cell_type": "markdown",
      "source": [
        "There is no graphic output so (if desired) one could test that the section was successfully created?\n",
        "\n",
        "1. **h.toplogy() function** that will dipslay the topological structure of the entire model, indicating which sections are connected to which sections, where they are connected, and how many segments each section is divided into.\n",
        "\n",
        "#OR\n",
        "\n",
        "2. **psection method** which returns the **p**roperties of the **section** in the form of a python dictionary\n",
        "\n"
      ],
      "metadata": {
        "id": "7V2gbhpd_3Xj"
      }
    },
    {
      "cell_type": "code",
      "source": [],
      "metadata": {
        "id": "fkqJSaraAX8B"
      },
      "execution_count": 9,
      "outputs": []
    }
  ]
}