{
  "nbformat": 4,
  "nbformat_minor": 0,
  "metadata": {
    "colab": {
      "provenance": [],
      "authorship_tag": "ABX9TyPMKdw8aRBO3GEEWddI+a4K",
      "include_colab_link": true
    },
    "kernelspec": {
      "name": "python3",
      "display_name": "Python 3"
    },
    "language_info": {
      "name": "python"
    }
  },
  "cells": [
    {
      "cell_type": "markdown",
      "metadata": {
        "id": "view-in-github",
        "colab_type": "text"
      },
      "source": [
        "<a href=\"https://colab.research.google.com/github/dkanh6/Computational_Neuroscience/blob/main/E1_Single_Compartment_Cell.ipynb\" target=\"_parent\"><img src=\"https://colab.research.google.com/assets/colab-badge.svg\" alt=\"Open In Colab\"/></a>"
      ]
    },
    {
      "cell_type": "markdown",
      "source": [
        "# E1 Single Compartment Cell in NEURON\n",
        "\n",
        "\n",
        "---\n",
        "\n",
        "\n",
        "This is an example created purely to familarize myself with the NEURON package and experiment with its many features. First I will install NEURON and some other useful libraries such as numpy and matlplotlib\n",
        "\n",
        "The NEURON module has additional submodules besides .h submodule.\n",
        "\n",
        "1. .rxd (reaction diffusion dynamics)\n",
        "2. .gui2 (Jupyter-compatible PlotShape graphs)\n",
        "3. .gui (Interviews-based GUI tools.)\n",
        "\n",
        "the .h submodule allows for loading files, executing code, and calling functions written in HOC, an older scriptiong language supported by NEURON.\n",
        "\n"
      ],
      "metadata": {
        "id": "Tq0O67i-5JRX"
      }
    },
    {
      "cell_type": "code",
      "execution_count": 2,
      "metadata": {
        "colab": {
          "base_uri": "https://localhost:8080/"
        },
        "id": "Bix59pgc4vld",
        "outputId": "2a2cc18c-ed8c-4e55-ce8a-b4fdaf24c656"
      },
      "outputs": [
        {
          "output_type": "stream",
          "name": "stdout",
          "text": [
            "Collecting neuron\n",
            "  Downloading NEURON-8.2.3-cp310-cp310-manylinux_2_17_x86_64.manylinux2014_x86_64.whl (14.9 MB)\n",
            "\u001b[2K     \u001b[90m━━━━━━━━━━━━━━━━━━━━━━━━━━━━━━━━━━━━━━━━\u001b[0m \u001b[32m14.9/14.9 MB\u001b[0m \u001b[31m59.9 MB/s\u001b[0m eta \u001b[36m0:00:00\u001b[0m\n",
            "\u001b[?25hRequirement already satisfied: numpy>=1.9.3 in /usr/local/lib/python3.10/dist-packages (from neuron) (1.23.5)\n",
            "Installing collected packages: neuron\n",
            "Successfully installed neuron-8.2.3\n"
          ]
        }
      ],
      "source": [
        "!pip install neuron"
      ]
    },
    {
      "cell_type": "code",
      "source": [
        "from neuron import h\n",
        "import matplotlib.pyplot as plt\n",
        "import numpy as np\n",
        "h.load_file('stdrun.hoc') # compiles some of the files for use in the simulation\n"
      ],
      "metadata": {
        "id": "wAHjDBWM6VmM",
        "colab": {
          "base_uri": "https://localhost:8080/"
        },
        "outputId": "83c04a5f-e925-4509-af4a-8136de812dd3"
      },
      "execution_count": 3,
      "outputs": [
        {
          "output_type": "execute_result",
          "data": {
            "text/plain": [
              "1.0"
            ]
          },
          "metadata": {},
          "execution_count": 3
        }
      ]
    },
    {
      "cell_type": "markdown",
      "source": [
        "## How to Make a Simple Cell\n",
        "\n",
        "\n",
        "---\n",
        "\n",
        "\n",
        "\n",
        "A **Section** is the basic morphological building block in NEURON. Think of it as an unbranched cable, (it can be used to represent a soma). Thus the simpliest of neuron models would be only a soma.\n",
        "\n"
      ],
      "metadata": {
        "id": "wqNcVCRI9Swy"
      }
    },
    {
      "cell_type": "code",
      "source": [
        "soma = h.Section(name='soma')"
      ],
      "metadata": {
        "id": "-u5YVqZK9oQ1"
      },
      "execution_count": 4,
      "outputs": []
    },
    {
      "cell_type": "markdown",
      "source": [
        "There is no graphic output so (if desired) one could test that the section was successfully created?\n",
        "\n",
        "1. **h.toplogy() function** that will dipslay the topological structure of the entire model, indicating which sections are connected to which sections, where they are connected, and how many segments each section is divided into.\n",
        "\n",
        "#OR\n",
        "\n",
        "2. **psection method** which returns the **p**roperties of the **section** in the form of a python dictionary, giving information such as Length, diamter, axial resistivity, speicifc membrane capacitance. To get values such as length you can either use soma.L or soma.psection()['morphology']['L'].\n",
        "\n",
        "#OR\n",
        "\n",
        "3. Print resules to console directly and verify"
      ],
      "metadata": {
        "id": "7V2gbhpd_3Xj"
      }
    },
    {
      "cell_type": "code",
      "source": [
        "soma.psection()\n",
        "soma.psection()['morphology']['L']\n",
        "\n",
        "\n"
      ],
      "metadata": {
        "colab": {
          "base_uri": "https://localhost:8080/"
        },
        "id": "fkqJSaraAX8B",
        "outputId": "c12719c4-e5ab-49c3-8b5f-d7fd9b723439"
      },
      "execution_count": 5,
      "outputs": [
        {
          "output_type": "execute_result",
          "data": {
            "text/plain": [
              "100.0"
            ]
          },
          "metadata": {},
          "execution_count": 5
        }
      ]
    },
    {
      "cell_type": "code",
      "source": [
        "print(\"The default Length is \" + str(soma.L) + \" um\")\n",
        "print(\"The default Diameter is \" + str(soma.diam) + \"um\")\n",
        "print(\"The default capacitance is {} uF/ cm^2\".format(str(soma.cm)))\n",
        "print(\"The default cytoplasmic resistivity is {} ohm-cm\".format(str(soma.Ra)))\n",
        "\n",
        "soma.nseg = 4    #defines how many segments to divide up the section into\n",
        "soma.diam = 20   # Default of 500 is a carry over from the HH experiments on Giant Squid axons\n",
        "soma.L = 20      # Default of 100 is a carry over from the HH experiments on Giant Squid axons"
      ],
      "metadata": {
        "id": "PPBL0aXD3I7C",
        "colab": {
          "base_uri": "https://localhost:8080/"
        },
        "outputId": "95cdbb7d-b0d8-4054-9476-5861242fa9c1"
      },
      "execution_count": 6,
      "outputs": [
        {
          "output_type": "stream",
          "name": "stdout",
          "text": [
            "The default Length is 100.0 um\n",
            "The default Diameter is 500.0um\n",
            "The default capacitance is 1.0 uF/ cm^2\n",
            "The default cytoplasmic resistivity is 35.4 ohm-cm\n"
          ]
        }
      ]
    },
    {
      "cell_type": "markdown",
      "source": [
        "To probe objects of a class a little further we can use the dir() function, whcih will provide us all the methods and data members associated with teh oibject. Any method with two leading an trailing underscores are reserved by pyhtonwill provide us with all objects. To get a little help use the help function (for instance help(soma.connect). To do so with all the functions, variables, etc in the NEURON .h submodule use:"
      ],
      "metadata": {
        "id": "Jgo3X3z74Fnp"
      }
    },
    {
      "cell_type": "code",
      "source": [
        "#import textwrap\n",
        "#print(textwrap.fill(', '.join(dir(h))))"
      ],
      "metadata": {
        "id": "fp7Traqc4nwm"
      },
      "execution_count": 7,
      "outputs": []
    },
    {
      "cell_type": "markdown",
      "source": [
        "# Adding Passive Channels\n",
        "\n",
        "\n",
        "---\n",
        "\n",
        "\n",
        "This can be done manually or might be apart of other packages (such as the hodgkin huxley channels, which include a passive channel natively). If only the passive channels are present then the resting membrane potential will be the reverse potntial of the Leak channels\n",
        "\n"
      ],
      "metadata": {
        "id": "hgQMY1dS6ATg"
      }
    },
    {
      "cell_type": "code",
      "source": [
        "soma.insert('pas')       #This inserts a passive channel\n",
        "print(\"Default E_leak = {} mV\".format(str(soma.e_pas)))\n",
        "print(\"Default g_leak = {} S/cm^s\".format(str(soma.g_pas)))"
      ],
      "metadata": {
        "colab": {
          "base_uri": "https://localhost:8080/"
        },
        "id": "wQ7n1R0K8C0U",
        "outputId": "4ff8c176-1a34-4511-d9ec-79c4d7bc7cd5"
      },
      "execution_count": 8,
      "outputs": [
        {
          "output_type": "stream",
          "name": "stdout",
          "text": [
            "Default E_leak = -70.0 mV\n",
            "Default g_leak = 0.001 S/cm^s\n"
          ]
        }
      ]
    },
    {
      "cell_type": "markdown",
      "source": [
        "# Adding Active Channels\n",
        "\n",
        "\n",
        "---\n",
        "\n",
        "\n",
        "\n",
        "This example will be inserting the Hodgkin-huxley channels to the soma, who have their values based off the squid giant axon experimental values. We will need to turn off the hh passive channel though, as we already modeled ours earlier"
      ],
      "metadata": {
        "id": "o5-lQTwz8ud7"
      }
    },
    {
      "cell_type": "code",
      "source": [
        "soma.insert('hh')       #Inserts the Hodgkin-Huxley Channels\n",
        "print(\"Default El_hh = {} mV\".format(str(soma.el_hh)))\n",
        "print(\"Default gl_hh = {} S/cm^s\".format(str(soma.gl_hh)))\n",
        "print(\"Default Ek_hh = {} mV\".format(str(soma.ek)))\n",
        "print(\"Default gkbar_hh = {} S/cm^s\".format(str(soma.gkbar_hh)))\n",
        "print(\"Default Ena_hh = {} mV\".format(str(soma.ena)))\n",
        "print(\"Default gna_hh = {} S/cm^s\".format(str(soma.gnabar_hh)))\n",
        "soma.gl_hh = 0 # This sets the flux of the leak channels to zero, effectively turning them off"
      ],
      "metadata": {
        "colab": {
          "base_uri": "https://localhost:8080/"
        },
        "id": "FIKhGdJR9GL0",
        "outputId": "ec14a9f6-0e05-44e1-d855-4df37d07cec6"
      },
      "execution_count": 9,
      "outputs": [
        {
          "output_type": "stream",
          "name": "stdout",
          "text": [
            "Default El_hh = -54.3 mV\n",
            "Default gl_hh = 0.0003 S/cm^s\n",
            "Default Ek_hh = -77.0 mV\n",
            "Default gkbar_hh = 0.036 S/cm^s\n",
            "Default Ena_hh = 50.0 mV\n",
            "Default gna_hh = 0.12 S/cm^s\n"
          ]
        }
      ]
    },
    {
      "cell_type": "markdown",
      "source": [
        "# Current Clamp\n",
        "\n",
        "\n",
        "---\n",
        "\n",
        "\n",
        "\n",
        "A current clamp will inject a constant current into the soma and is typically used to measure the change in voltage. To set up a current clamp we need to establish 4 parameters (the location (on a scale of 0 -1)), the duration (how long the current is injected for), the amplitude (how much current), and the delay (how long it waits before injecting the current)."
      ],
      "metadata": {
        "id": "HcirbaaPFEmN"
      }
    },
    {
      "cell_type": "code",
      "source": [
        "ic = h.IClamp(soma(0.5)) # 0.5 means that at the middle of the soma a current injection will occur, if soma(0) that would be left side and if soma(1) that would be right side\n",
        "ic.dur = 2.5 #ms\n",
        "ic.amp = 1 #nA\n",
        "ic.delay = 100 #ms\n",
        "\n"
      ],
      "metadata": {
        "id": "FMgQi0ZkFjca"
      },
      "execution_count": 10,
      "outputs": []
    },
    {
      "cell_type": "markdown",
      "source": [
        "# Running the Simulation\n",
        "\n",
        "\n",
        "---\n",
        "\n",
        "\n",
        "Now that the cell is complete, we need to run the simulation, which is going to measure the voltage change due to our current clamp. First we will need to determine how long the simulation should last, how long each time step will be, and set up the vectors to capture the data at each time step."
      ],
      "metadata": {
        "id": "ODiD4GwKGKpd"
      }
    },
    {
      "cell_type": "code",
      "source": [
        "h.v_init = soma.e_pas   # This sets the initial voltage of the cell to the leak reversal potential\n",
        "h.tstop = tstop = 200 # how long the simulation should run in (ms)\n",
        "h.dt = 0.025 # time step (resolution) of the simulation in (ms)\n",
        "\n",
        "#Initalize the vectors that will record the time & voltage\n",
        "t_vec = h.Vector()\n",
        "soma_v_vec = h.Vector()\n",
        "\n",
        "# Record the voltage (_ref_v) and time (_ref_t) and voltage (_ref_v) into the vectors we just created\n",
        "t_vec.record(h._ref_t)\n",
        "soma_v_vec.record(soma(0.5)._ref_v)\n",
        "h.run()  # This command begins the simuation"
      ],
      "metadata": {
        "colab": {
          "base_uri": "https://localhost:8080/"
        },
        "id": "WlAFA_MqGyAR",
        "outputId": "7061f318-883c-46cc-b355-f09599d48eff"
      },
      "execution_count": 11,
      "outputs": [
        {
          "output_type": "execute_result",
          "data": {
            "text/plain": [
              "0.0"
            ]
          },
          "metadata": {},
          "execution_count": 11
        }
      ]
    },
    {
      "cell_type": "markdown",
      "source": [
        "# Plotting the Results\n",
        "The simulation has been run, but we need to display the results in the vector variables in a way that easy to interperet\n",
        "\n",
        "\n"
      ],
      "metadata": {
        "id": "_WJI2GMlI_gf"
      }
    },
    {
      "cell_type": "code",
      "source": [
        "fig, axs = plt.subplots(1,1,figsize=(6, 6))\n",
        "axs.plot(t_vec,soma_v_vec, color = 'black') # plots t vs V\n",
        "axs.set_title(str(soma) + \" Voltage\")\n",
        "axs.set_xlabel(\"Time (ms)\")\n",
        "axs.set_ylabel(\"Current (mV)\")\n",
        "plt.show()"
      ],
      "metadata": {
        "colab": {
          "base_uri": "https://localhost:8080/",
          "height": 564
        },
        "id": "v9aT6f__M1nb",
        "outputId": "2d5cfa19-f7a7-4f2c-829a-3dcace930ff8"
      },
      "execution_count": 12,
      "outputs": [
        {
          "output_type": "display_data",
          "data": {
            "text/plain": [
              "<Figure size 600x600 with 1 Axes>"
            ],
            "image/png": "[encoded data removed]"
          },
          "metadata": {}
        }
      ]
    }
  ]
}