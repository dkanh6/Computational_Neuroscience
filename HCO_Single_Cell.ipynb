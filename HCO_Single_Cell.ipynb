{
  "nbformat": 4,
  "nbformat_minor": 0,
  "metadata": {
    "colab": {
      "provenance": [],
      "authorship_tag": "ABX9TyMUGFUhirUUjYmTkyi8U3Kp",
      "include_colab_link": true
    },
    "kernelspec": {
      "name": "python3",
      "display_name": "Python 3"
    },
    "language_info": {
      "name": "python"
    }
  },
  "cells": [
    {
      "cell_type": "markdown",
      "metadata": {
        "id": "view-in-github",
        "colab_type": "text"
      },
      "source": [
        "<a href=\"https://colab.research.google.com/github/dkanh6/Computational_Neuroscience/blob/Custom/HCO_Single_Cell.ipynb\" target=\"_parent\"><img src=\"https://colab.research.google.com/assets/colab-badge.svg\" alt=\"Open In Colab\"/></a>"
      ]
    },
    {
      "cell_type": "code",
      "execution_count": 12,
      "metadata": {
        "id": "LSwwXURUWH0-"
      },
      "outputs": [],
      "source": []
    },
    {
      "cell_type": "markdown",
      "source": [
        "# **Single Cell Spiking Model**\n",
        "\n",
        "This script will model a single compartment neuron that will have classic AP spiking activity.\n",
        "\n",
        "\n",
        "## **Notebook Setup**\n",
        "---\n",
        "\n",
        "### **Install Neuron**\n",
        "first install NEURON package, import .h submodule, and matplotlib + numpy\n"
      ],
      "metadata": {
        "id": "TtQ6GmEuWUvb"
      }
    },
    {
      "cell_type": "code",
      "source": [
        "!pip install neuron\n",
        "from neuron import h\n",
        "import matplotlib.pyplot as plt\n",
        "import numpy as np\n",
        "h.load_file('stdrun.hoc')"
      ],
      "metadata": {
        "colab": {
          "base_uri": "https://localhost:8080/"
        },
        "id": "Z6PxJwG7XeTM",
        "outputId": "ad4047bd-d41c-4fa4-8835-76d766065fdd"
      },
      "execution_count": 13,
      "outputs": [
        {
          "output_type": "stream",
          "name": "stdout",
          "text": [
            "Requirement already satisfied: neuron in /usr/local/lib/python3.10/dist-packages (8.2.3)\n",
            "Requirement already satisfied: numpy>=1.9.3 in /usr/local/lib/python3.10/dist-packages (from neuron) (1.23.5)\n"
          ]
        },
        {
          "output_type": "execute_result",
          "data": {
            "text/plain": [
              "1.0"
            ]
          },
          "metadata": {},
          "execution_count": 13
        }
      ]
    },
    {
      "cell_type": "markdown",
      "source": [
        "## **Model Setup**\n",
        "This will be a simple single compartment cell model\n",
        "\n",
        "\n",
        "### **Initalize the Model**\n"
      ],
      "metadata": {
        "id": "rONVTSK9Tm9B"
      }
    },
    {
      "cell_type": "code",
      "source": [
        "### Creating the Cell Body ###\n",
        "soma = h.Section(name='soma')\n",
        "soma.nseg = 4 # determines how many indivdual segments to divide a given Section into\n",
        "\n",
        "print(\"*******Default Soma Values*******\") # These values are not realistic for a human neuron as these values are derived from the Hodgkin Huxley Squid Giant Neuron experimental alue\n",
        "print(\"Length:             {}  um\".format(str(soma.L)))\n",
        "print(\"Diamter:            {}  um\".format(str(soma.diam)))\n",
        "print(\"Capacitance:        {}  uF/cm^2\".format(str(soma.cm)))\n",
        "print(\"Axial Resistance:   {}  ohm-cm\\n\".format(str(soma.Ra)))\n",
        "\n",
        "\n",
        "soma.L = 30 #um\n",
        "soma.diam = 30 #um\n",
        "print(\"*******Adjusted Soma Values*******\") # These\n",
        "print(\"Length:             {}  um\".format(str(soma.L)))\n",
        "print(\"Diamter:            {}  um\".format(str(soma.diam)))\n",
        "print(\"Capacitance:        {}  uF/cm^2\".format(str(soma.cm)))\n",
        "print(\"Axial Resistance:   {}  ohm-cm\\n\".format(str(soma.Ra)))\n",
        "\n"
      ],
      "metadata": {
        "colab": {
          "base_uri": "https://localhost:8080/"
        },
        "id": "a9v2ZjukT8YB",
        "outputId": "59b5a1db-6483-479c-d60e-fc2e5d17000f"
      },
      "execution_count": 32,
      "outputs": [
        {
          "output_type": "stream",
          "name": "stdout",
          "text": [
            "*******Default Soma Values*******\n",
            "Length:             100.0  um\n",
            "Diamter:            500.0  um\n",
            "Capacitance:        1.0  uF/cm^2\n",
            "Axial Resistance:   35.4  ohm-cm\n",
            "\n",
            "*******Adjusted Soma Values*******\n",
            "Length:             30.0  um\n",
            "Diamter:            30.0  um\n",
            "Capacitance:        1.0  uF/cm^2\n",
            "Axial Resistance:   35.4  ohm-cm\n",
            "\n"
          ]
        }
      ]
    }
  ]
}