{
  "nbformat": 4,
  "nbformat_minor": 0,
  "metadata": {
    "colab": {
      "provenance": [],
      "authorship_tag": "ABX9TyNaY9gb1dSONYDiakR/Is4t",
      "include_colab_link": true
    },
    "kernelspec": {
      "name": "python3",
      "display_name": "Python 3"
    },
    "language_info": {
      "name": "python"
    }
  },
  "cells": [
    {
      "cell_type": "markdown",
      "metadata": {
        "id": "view-in-github",
        "colab_type": "text"
      },
      "source": [
        "<a href=\"https://colab.research.google.com/github/dkanh6/Computational_Neuroscience/blob/Custom/HCO_Single_Cell.ipynb\" target=\"_parent\"><img src=\"https://colab.research.google.com/assets/colab-badge.svg\" alt=\"Open In Colab\"/></a>"
      ]
    },
    {
      "cell_type": "code",
      "execution_count": 12,
      "metadata": {
        "id": "LSwwXURUWH0-"
      },
      "outputs": [],
      "source": []
    },
    {
      "cell_type": "markdown",
      "source": [
        "# **Single Cell Spiking Model**\n",
        "\n",
        "This script will model a single compartment neuron that will have classic AP spiking activity.\n",
        "\n",
        "\n",
        "## **Notebook Setup**\n",
        "---\n",
        "\n",
        "### **Install Neuron**\n",
        "first install NEURON package, import .h submodule, and matplotlib + numpy\n"
      ],
      "metadata": {
        "id": "TtQ6GmEuWUvb"
      }
    },
    {
      "cell_type": "code",
      "source": [],
      "metadata": {
        "id": "OCEzBL0-Tgj4"
      },
      "execution_count": 12,
      "outputs": []
    },
    {
      "cell_type": "code",
      "source": [
        "!pip install neuron\n",
        "from neuron import h\n",
        "import matplotlib.pyplot as plt\n",
        "import numpy as np\n",
        "h.load_file('stdrun.hoc')"
      ],
      "metadata": {
        "colab": {
          "base_uri": "https://localhost:8080/"
        },
        "id": "Z6PxJwG7XeTM",
        "outputId": "ad4047bd-d41c-4fa4-8835-76d766065fdd"
      },
      "execution_count": 13,
      "outputs": [
        {
          "output_type": "stream",
          "name": "stdout",
          "text": [
            "Requirement already satisfied: neuron in /usr/local/lib/python3.10/dist-packages (8.2.3)\n",
            "Requirement already satisfied: numpy>=1.9.3 in /usr/local/lib/python3.10/dist-packages (from neuron) (1.23.5)\n"
          ]
        },
        {
          "output_type": "execute_result",
          "data": {
            "text/plain": [
              "1.0"
            ]
          },
          "metadata": {},
          "execution_count": 13
        }
      ]
    },
    {
      "cell_type": "markdown",
      "source": [
        "### **Download modfiles from hithub**\n"
      ],
      "metadata": {
        "id": "I3zcdbUJQFj6"
      }
    },
    {
      "cell_type": "code",
      "source": [
        "import os\n",
        "!git clone https://github.com/chenziao/HCO-Model-Project-Colab.git\n",
        "%cd HCO-Model-Project-Colab/\n"
      ],
      "metadata": {
        "colab": {
          "base_uri": "https://localhost:8080/"
        },
        "id": "v8I2eMmpQXT5",
        "outputId": "d2f48cb7-2cbc-4cba-e25b-cf95fba56969"
      },
      "execution_count": 14,
      "outputs": [
        {
          "output_type": "stream",
          "name": "stdout",
          "text": [
            "Cloning into 'HCO-Model-Project-Colab'...\n",
            "remote: Enumerating objects: 43, done.\u001b[K\n",
            "remote: Counting objects:   2% (1/43)\u001b[K\rremote: Counting objects:   4% (2/43)\u001b[K\rremote: Counting objects:   6% (3/43)\u001b[K\rremote: Counting objects:   9% (4/43)\u001b[K\rremote: Counting objects:  11% (5/43)\u001b[K\rremote: Counting objects:  13% (6/43)\u001b[K\rremote: Counting objects:  16% (7/43)\u001b[K\rremote: Counting objects:  18% (8/43)\u001b[K\rremote: Counting objects:  20% (9/43)\u001b[K\rremote: Counting objects:  23% (10/43)\u001b[K\rremote: Counting objects:  25% (11/43)\u001b[K\rremote: Counting objects:  27% (12/43)\u001b[K\rremote: Counting objects:  30% (13/43)\u001b[K\rremote: Counting objects:  32% (14/43)\u001b[K\rremote: Counting objects:  34% (15/43)\u001b[K\rremote: Counting objects:  37% (16/43)\u001b[K\rremote: Counting objects:  39% (17/43)\u001b[K\rremote: Counting objects:  41% (18/43)\u001b[K\rremote: Counting objects:  44% (19/43)\u001b[K\rremote: Counting objects:  46% (20/43)\u001b[K\rremote: Counting objects:  48% (21/43)\u001b[K\rremote: Counting objects:  51% (22/43)\u001b[K\rremote: Counting objects:  53% (23/43)\u001b[K\rremote: Counting objects:  55% (24/43)\u001b[K\rremote: Counting objects:  58% (25/43)\u001b[K\rremote: Counting objects:  60% (26/43)\u001b[K\rremote: Counting objects:  62% (27/43)\u001b[K\rremote: Counting objects:  65% (28/43)\u001b[K\rremote: Counting objects:  67% (29/43)\u001b[K\rremote: Counting objects:  69% (30/43)\u001b[K\rremote: Counting objects:  72% (31/43)\u001b[K\rremote: Counting objects:  74% (32/43)\u001b[K\rremote: Counting objects:  76% (33/43)\u001b[K\rremote: Counting objects:  79% (34/43)\u001b[K\rremote: Counting objects:  81% (35/43)\u001b[K\rremote: Counting objects:  83% (36/43)\u001b[K\rremote: Counting objects:  86% (37/43)\u001b[K\rremote: Counting objects:  88% (38/43)\u001b[K\rremote: Counting objects:  90% (39/43)\u001b[K\rremote: Counting objects:  93% (40/43)\u001b[K\rremote: Counting objects:  95% (41/43)\u001b[K\rremote: Counting objects:  97% (42/43)\u001b[K\rremote: Counting objects: 100% (43/43)\u001b[K\rremote: Counting objects: 100% (43/43), done.\u001b[K\n",
            "remote: Compressing objects:   2% (1/40)\u001b[K\rremote: Compressing objects:   5% (2/40)\u001b[K\rremote: Compressing objects:   7% (3/40)\u001b[K\rremote: Compressing objects:  10% (4/40)\u001b[K\rremote: Compressing objects:  12% (5/40)\u001b[K\rremote: Compressing objects:  15% (6/40)\u001b[K\rremote: Compressing objects:  17% (7/40)\u001b[K\rremote: Compressing objects:  20% (8/40)\u001b[K\rremote: Compressing objects:  22% (9/40)\u001b[K\rremote: Compressing objects:  25% (10/40)\u001b[K\rremote: Compressing objects:  27% (11/40)\u001b[K\rremote: Compressing objects:  30% (12/40)\u001b[K\rremote: Compressing objects:  32% (13/40)\u001b[K\rremote: Compressing objects:  35% (14/40)\u001b[K\rremote: Compressing objects:  37% (15/40)\u001b[K\rremote: Compressing objects:  40% (16/40)\u001b[K\rremote: Compressing objects:  42% (17/40)\u001b[K\rremote: Compressing objects:  45% (18/40)\u001b[K\rremote: Compressing objects:  47% (19/40)\u001b[K\rremote: Compressing objects:  50% (20/40)\u001b[K\rremote: Compressing objects:  52% (21/40)\u001b[K\rremote: Compressing objects:  55% (22/40)\u001b[K\rremote: Compressing objects:  57% (23/40)\u001b[K\rremote: Compressing objects:  60% (24/40)\u001b[K\rremote: Compressing objects:  62% (25/40)\u001b[K\rremote: Compressing objects:  65% (26/40)\u001b[K\rremote: Compressing objects:  67% (27/40)\u001b[K\rremote: Compressing objects:  70% (28/40)\u001b[K\rremote: Compressing objects:  72% (29/40)\u001b[K\rremote: Compressing objects:  75% (30/40)\u001b[K\rremote: Compressing objects:  77% (31/40)\u001b[K\rremote: Compressing objects:  80% (32/40)\u001b[K\rremote: Compressing objects:  82% (33/40)\u001b[K\rremote: Compressing objects:  85% (34/40)\u001b[K\rremote: Compressing objects:  87% (35/40)\u001b[K\rremote: Compressing objects:  90% (36/40)\u001b[K\rremote: Compressing objects:  92% (37/40)\u001b[K\rremote: Compressing objects:  95% (38/40)\u001b[K\rremote: Compressing objects:  97% (39/40)\u001b[K\rremote: Compressing objects: 100% (40/40)\u001b[K\rremote: Compressing objects: 100% (40/40), done.\u001b[K\n",
            "Receiving objects:   2% (1/43)\rReceiving objects:   4% (2/43)\rReceiving objects:   6% (3/43)\rReceiving objects:   9% (4/43)\rReceiving objects:  11% (5/43)\rReceiving objects:  13% (6/43)\rReceiving objects:  16% (7/43)\rReceiving objects:  18% (8/43)\rReceiving objects:  20% (9/43)\rReceiving objects:  23% (10/43)\rReceiving objects:  25% (11/43)\rReceiving objects:  27% (12/43)\rReceiving objects:  30% (13/43)\rReceiving objects:  32% (14/43)\rReceiving objects:  34% (15/43)\rReceiving objects:  37% (16/43)\rReceiving objects:  39% (17/43)\rReceiving objects:  41% (18/43)\rReceiving objects:  44% (19/43)\rReceiving objects:  46% (20/43)\rReceiving objects:  48% (21/43)\rReceiving objects:  51% (22/43)\rReceiving objects:  53% (23/43)\rremote: Total 43 (delta 20), reused 5 (delta 3), pack-reused 0\u001b[K\n",
            "Receiving objects:  55% (24/43)\rReceiving objects:  58% (25/43)\rReceiving objects:  60% (26/43)\rReceiving objects:  62% (27/43)\rReceiving objects:  65% (28/43)\rReceiving objects:  67% (29/43)\rReceiving objects:  69% (30/43)\rReceiving objects:  72% (31/43)\rReceiving objects:  74% (32/43)\rReceiving objects:  76% (33/43)\rReceiving objects:  79% (34/43)\rReceiving objects:  81% (35/43)\rReceiving objects:  83% (36/43)\rReceiving objects:  86% (37/43)\rReceiving objects:  88% (38/43)\rReceiving objects:  90% (39/43)\rReceiving objects:  93% (40/43)\rReceiving objects:  95% (41/43)\rReceiving objects:  97% (42/43)\rReceiving objects: 100% (43/43)\rReceiving objects: 100% (43/43), 15.47 KiB | 7.73 MiB/s, done.\n",
            "Resolving deltas:   0% (0/20)\rResolving deltas:   5% (1/20)\rResolving deltas:  10% (2/20)\rResolving deltas:  15% (3/20)\rResolving deltas:  20% (4/20)\rResolving deltas:  25% (5/20)\rResolving deltas:  30% (6/20)\rResolving deltas:  35% (7/20)\rResolving deltas:  40% (8/20)\rResolving deltas:  45% (9/20)\rResolving deltas:  50% (10/20)\rResolving deltas:  55% (11/20)\rResolving deltas:  60% (12/20)\rResolving deltas:  65% (13/20)\rResolving deltas:  70% (14/20)\rResolving deltas:  75% (15/20)\rResolving deltas:  80% (16/20)\rResolving deltas:  85% (17/20)\rResolving deltas:  90% (18/20)\rResolving deltas:  95% (19/20)\rResolving deltas: 100% (20/20)\rResolving deltas: 100% (20/20), done.\n",
            "/content/HCO-Model-Project-Colab/HCO-Model-Project-Colab/HCO-Model-Project-Colab\n"
          ]
        }
      ]
    },
    {
      "cell_type": "markdown",
      "source": [
        "### **Compile modfiles**"
      ],
      "metadata": {
        "id": "Slq3cdXyRCkx"
      }
    },
    {
      "cell_type": "code",
      "source": [
        "flag = os.system('nrnivmodl') # compiles modfiles. Returns 0 for success, 1 for failure\n",
        "if(flag==0):\n",
        "  print(\"Mod Files Compiled Successfully!\")\n",
        "else:\n",
        "  print(\"Mod Failes Compilation Failed\")"
      ],
      "metadata": {
        "colab": {
          "base_uri": "https://localhost:8080/"
        },
        "id": "zJDGL8qaRbNS",
        "outputId": "d1179930-c391-4449-f9f5-3d604abf2b9e"
      },
      "execution_count": 15,
      "outputs": [
        {
          "output_type": "stream",
          "name": "stdout",
          "text": [
            "Mod Files Compiled Successfully!\n"
          ]
        }
      ]
    },
    {
      "cell_type": "markdown",
      "source": [
        "## **Model Setup**\n",
        "This will be a simple single compartment cell model\n",
        "\n",
        "\n",
        "### **Initalize the Model**\n"
      ],
      "metadata": {
        "id": "rONVTSK9Tm9B"
      }
    },
    {
      "cell_type": "code",
      "source": [
        "from HCO_cell_template import HCOcell\n",
        "\n",
        "# Create a single Cell\n",
        "cell = HCOcell()\n",
        "print(\"Here is the length of the cell \" + str(cell.soma.L))\n",
        "\n",
        "# Create a current Clamp\n",
        "\n",
        "# Create a synaptic Input to the Cell\n",
        "h.dt = 0.025 # time step (resolution) of the simulation in ms\n",
        "h.tstop = 200 # how long the smiulation should run in ms\n",
        "\n"
      ],
      "metadata": {
        "colab": {
          "base_uri": "https://localhost:8080/"
        },
        "id": "a9v2ZjukT8YB",
        "outputId": "311f16ed-a615-4b45-a0b1-964d72a15344"
      },
      "execution_count": 22,
      "outputs": [
        {
          "output_type": "stream",
          "name": "stdout",
          "text": [
            "Here is the length of the cell 1000.0\n"
          ]
        }
      ]
    }
  ]
}