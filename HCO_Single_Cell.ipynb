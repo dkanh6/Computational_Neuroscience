{
  "nbformat": 4,
  "nbformat_minor": 0,
  "metadata": {
    "colab": {
      "provenance": [],
      "authorship_tag": "ABX9TyNw4Vf8bnjaGXD+5PtPFwHq",
      "include_colab_link": true
    },
    "kernelspec": {
      "name": "python3",
      "display_name": "Python 3"
    },
    "language_info": {
      "name": "python"
    }
  },
  "cells": [
    {
      "cell_type": "markdown",
      "metadata": {
        "id": "view-in-github",
        "colab_type": "text"
      },
      "source": [
        "<a href=\"https://colab.research.google.com/github/dkanh6/Computational_Neuroscience/blob/Custom/HCO_Single_Cell.ipynb\" target=\"_parent\"><img src=\"https://colab.research.google.com/assets/colab-badge.svg\" alt=\"Open In Colab\"/></a>"
      ]
    },
    {
      "cell_type": "code",
      "execution_count": 73,
      "metadata": {
        "id": "LSwwXURUWH0-"
      },
      "outputs": [],
      "source": []
    },
    {
      "cell_type": "markdown",
      "source": [
        "# **Single Cell Spiking Model**\n",
        "\n",
        "This script will model a single compartment neuron that will have classic AP spiking activity.\n",
        "\n",
        "\n",
        "## **Notebook Setup**\n",
        "---\n",
        "\n",
        "### **Install Neuron**\n",
        "first install NEURON package, import .h submodule, and matplotlib + numpy\n"
      ],
      "metadata": {
        "id": "TtQ6GmEuWUvb"
      }
    },
    {
      "cell_type": "code",
      "source": [
        "!pip install neuron\n",
        "from neuron import h\n",
        "import matplotlib.pyplot as plt\n",
        "import numpy as np\n",
        "h.load_file('stdrun.hoc')"
      ],
      "metadata": {
        "colab": {
          "base_uri": "https://localhost:8080/"
        },
        "id": "Z6PxJwG7XeTM",
        "outputId": "573d87cd-62dd-42c6-f217-c9cfc1c1f1a7"
      },
      "execution_count": 74,
      "outputs": [
        {
          "output_type": "stream",
          "name": "stdout",
          "text": [
            "Requirement already satisfied: neuron in /usr/local/lib/python3.10/dist-packages (8.2.3)\n",
            "Requirement already satisfied: numpy>=1.9.3 in /usr/local/lib/python3.10/dist-packages (from neuron) (1.23.5)\n"
          ]
        },
        {
          "output_type": "execute_result",
          "data": {
            "text/plain": [
              "1.0"
            ]
          },
          "metadata": {},
          "execution_count": 74
        }
      ]
    },
    {
      "cell_type": "markdown",
      "source": [
        "## **Model Setup**\n",
        "This will be a simple single compartment cell model\n",
        "\n",
        "\n",
        "### **Initalize the Model**\n"
      ],
      "metadata": {
        "id": "rONVTSK9Tm9B"
      }
    },
    {
      "cell_type": "code",
      "source": [
        "### Creating the Cell Body ###\n",
        "soma = h.Section(name='soma')\n",
        "soma.nseg = 4 # determines how many indivdual segments to divide a given Section into\n",
        "\n",
        "print(\"*******Default Soma Values*******\") # These values are not realistic for a human neuron as these values are derived from the Hodgkin Huxley Squid Giant Neuron experimental alue\n",
        "print(\"Length:             {}  um\".format(str(soma.L)))\n",
        "print(\"Diameter:           {}  um\".format(str(soma.diam)))\n",
        "print(\"Capacitance:        {}  uF/cm^2\".format(str(soma.cm)))\n",
        "print(\"Axial Resistance:   {}  ohm-cm\\n\".format(str(soma.Ra)))\n",
        "\n",
        "\n",
        "soma.L = 30 #um\n",
        "soma.diam = 30 #um\n",
        "soma.cm = 1.4884e-4/6.2832e-4 # membrane capacitance uF/cm2 <-- Located in S1\n",
        "print(\"*******Adjusted Soma Values*******\")\n",
        "print(\"Length:             {}  um\".format(str(soma.L)))\n",
        "print(\"Diameter:           {}  um\".format(str(soma.diam)))\n",
        "print(\"Capacitance:        {}  uF/cm^2\".format(str(soma.cm))) # per Lecture S3+\n",
        "print(\"Axial Resistance:   {}  ohm-cm\\n\".format(str(soma.Ra)))\n",
        "\n"
      ],
      "metadata": {
        "colab": {
          "base_uri": "https://localhost:8080/"
        },
        "id": "a9v2ZjukT8YB",
        "outputId": "6b6508c1-4956-438a-9b28-bfba60bc74b9"
      },
      "execution_count": 75,
      "outputs": [
        {
          "output_type": "stream",
          "name": "stdout",
          "text": [
            "*******Default Soma Values*******\n",
            "Length:             100.0  um\n",
            "Diameter:           500.0  um\n",
            "Capacitance:        1.0  uF/cm^2\n",
            "Axial Resistance:   35.4  ohm-cm\n",
            "\n",
            "*******Adjusted Soma Values*******\n",
            "Length:             30.0  um\n",
            "Diameter:           30.0  um\n",
            "Capacitance:        0.23688566335625158  uF/cm^2\n",
            "Axial Resistance:   35.4  ohm-cm\n",
            "\n"
          ]
        }
      ]
    },
    {
      "cell_type": "markdown",
      "source": [
        "### **Adding the Cells Biophysics (Channel Characteristics)**\n",
        "\n",
        "Inserting the Hodgkin Huxley channels and redefining specific conductances\n"
      ],
      "metadata": {
        "id": "vEzZpioh5xWd"
      }
    },
    {
      "cell_type": "code",
      "source": [
        "soma.insert('hh')\n",
        "print(\"******Leak Channel******\")\n",
        "print(\"Default Eleak = {} mV \\nDefault gleak = {} S/cm^2\\n\".format(str(soma.el_hh),str(soma.gl_hh)))\n",
        "soma.el_hh = -50 # mV (From HCOmodel_project_notebook)\n",
        "soma.gl_hh = 2.0e-5 # S/cm^2 (From S1)  %MIGHT need to change t5o glbar=.03e-3 S/cm^2 and adjust other values to get desired model behavior% or does it need to be the default value?\n",
        "print(\"Adjusted Eleak = {} mV \\nAdjusted gleak = {} S/cm^2\\n\".format(str(soma.el_hh),str(soma.gl_hh)))\n",
        "print(\"******Sodium Channel******\")\n",
        "print(\"Default Ena = {} mV \\nDefault gna = {} S/cm^2\\n\".format(str(soma.ena),str(soma.gnabar_hh)))\n",
        "soma.ena = 50 # mV (from HCOmodel_project_notebook)\n",
        "soma.gnabar_hh = 0.12 # S/cm^2 (From S1)\n",
        "print(\"Adjusted Ena = {} mV \\nAdjusted gna = {} S/cm^2\\n\".format(str(soma.el_hh),str(soma.gl_hh)))\n",
        "print(\"******Potassium Channel******\")\n",
        "print(\"Default Ek = {} mV \\nDefault gk = {} S/cm^2\\n\".format(str(soma.ek),str(soma.gkbar_hh)))\n",
        "soma.ek = -80 # mV (from HCOmodel_project_notebook)\n",
        "soma.gkbar_hh = 0.012 # S/cm^2\n",
        "print(\"Adjusted Ek = {} mV \\nAdjusted gk = {} S/cm^2\\n\".format(str(soma.ek),str(soma.gkbar_hh)))\n"
      ],
      "metadata": {
        "colab": {
          "base_uri": "https://localhost:8080/"
        },
        "id": "08RZzSk88vHI",
        "outputId": "ecd36a41-cfb9-4841-b1ad-c80459c9f515"
      },
      "execution_count": 76,
      "outputs": [
        {
          "output_type": "stream",
          "name": "stdout",
          "text": [
            "******Leak Channel******\n",
            "Default Eleak = -54.3 mV \n",
            "Default gleak = 0.0003 S/cm^2\n",
            "\n",
            "Adjusted Eleak = -50.0 mV \n",
            "Adjusted gleak = 2e-05 S/cm^2\n",
            "\n",
            "******Sodium Channel******\n",
            "Default Ena = 50.0 mV \n",
            "Default gna = 0.12 S/cm^2\n",
            "\n",
            "Adjusted Ena = -50.0 mV \n",
            "Adjusted gna = 2e-05 S/cm^2\n",
            "\n",
            "******Potassium Channel******\n",
            "Default Ek = -77.0 mV \n",
            "Default gk = 0.036 S/cm^2\n",
            "\n",
            "Adjusted Ek = -80.0 mV \n",
            "Adjusted gk = 0.012 S/cm^2\n",
            "\n"
          ]
        }
      ]
    },
    {
      "cell_type": "markdown",
      "source": [
        "# Current Clamp\n",
        "\n",
        "\n",
        "---\n",
        "\n",
        "\n",
        "\n",
        "A current clamp will inject a constant current into the soma and is typically used to measure the change in voltage. To set up a current clamp we need to establish 4 parameters (the location (on a scale of 0 -1)), the duration (how long the current is injected for),"
      ],
      "metadata": {
        "id": "Wh12umXSF4le"
      }
    },
    {
      "cell_type": "code",
      "source": [
        "ic = h.IClamp(soma(0.5))# 0.5 means that at the middle of the soma a current injection will occur, if soma(0) that would be left side and if soma(1) that would be right side\n",
        "ic.dur = 2.5 #ms\n",
        "ic.amp = 0 #nA\n",
        "ic.delay = 100 #ms\n",
        "\n"
      ],
      "metadata": {
        "id": "iVZkoJSQD8HW"
      },
      "execution_count": 77,
      "outputs": []
    },
    {
      "cell_type": "markdown",
      "source": [
        "# Running the Simulation\n",
        "\n",
        "\n",
        "---\n",
        "\n",
        "\n",
        "Now that the cell is complete, we need to run the simulation, which is going to measure the voltage change due to our current clamp. First we will need to determine how long the simulation should last, how long each time step will be, and set up the vectors to capture the data at each time step."
      ],
      "metadata": {
        "id": "9DCVxbuAGG1Z"
      }
    },
    {
      "cell_type": "code",
      "source": [
        "h.v_init = -50   # This sets the initial voltage to -50mV\n",
        "h.tstop = tstop = 200 # how long the simulation should run in (ms)\n",
        "h.dt = 0.025 # time step (resolution) of the simulation in (ms)\n",
        "\n",
        "#Initalize the vectors that will record the time & voltage\n",
        "t_vec = h.Vector()\n",
        "soma_v_vec = h.Vector()\n",
        "\n",
        "# Record the voltage (_ref_v) and time (_ref_t) and voltage (_ref_v) into the vectors we just created\n",
        "t_vec.record(h._ref_t)\n",
        "soma_v_vec.record(soma(0.5)._ref_v)\n",
        "h.run()  # This command begins the simuation"
      ],
      "metadata": {
        "colab": {
          "base_uri": "https://localhost:8080/"
        },
        "id": "bjp8ofFeGKgX",
        "outputId": "15787cc8-da27-41a9-ca1f-3d09d499a456"
      },
      "execution_count": 78,
      "outputs": [
        {
          "output_type": "execute_result",
          "data": {
            "text/plain": [
              "0.0"
            ]
          },
          "metadata": {},
          "execution_count": 78
        }
      ]
    },
    {
      "cell_type": "markdown",
      "source": [
        "# Plotting the Results\n",
        "The simulation has been run, but we need to display the results in the vector variables in a way that easy to interperet\n"
      ],
      "metadata": {
        "id": "03MFp9WqGNho"
      }
    },
    {
      "cell_type": "code",
      "source": [
        "fig, axs = plt.subplots(1,1,figsize=(6, 6))\n",
        "axs.plot(t_vec,soma_v_vec, color = 'black') # plots t vs V\n",
        "axs.set_title(str(soma) + \" Voltage\")\n",
        "axs.set_xlabel(\"Time (ms)\")\n",
        "axs.set_ylabel(\"Current (mV)\")\n",
        "plt.show()"
      ],
      "metadata": {
        "colab": {
          "base_uri": "https://localhost:8080/",
          "height": 564
        },
        "id": "gPJ7_dKcGMdW",
        "outputId": "8689cf91-39d3-4aab-bc52-69e089f26977"
      },
      "execution_count": 79,
      "outputs": [
        {
          "output_type": "display_data",
          "data": {
            "text/plain": [
              "<Figure size 600x600 with 1 Axes>"
            ],
            "image/png": "[encoded data removed]"
          },
          "metadata": {}
        }
      ]
    }
  ]
}